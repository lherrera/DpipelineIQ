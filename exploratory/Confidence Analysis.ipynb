{
 "cells": [
  {
   "cell_type": "code",
   "execution_count": 0,
   "metadata": {
    "application/vnd.databricks.v1+cell": {
     "cellMetadata": {
      "byteLimit": 2048000,
      "implicitDf": true,
      "rowLimit": 10000
     },
     "inputWidgets": {},
     "nuid": "4744b3e5-3faf-48c9-8f58-293733aff9d3",
     "showTitle": false,
     "tableResultSettingsMap": {},
     "title": ""
    }
   },
   "outputs": [],
   "source": [
    "%sql\n",
    "-- Set catalog and schema context for all operations\n",
    "USE CATALOG users;\n",
    "USE SCHEMA luis_herrera;\n",
    "\n",
    "-- Set execution timeout to 4 hours\n",
    "SET spark.databricks.execution.timeout = 14400;\n",
    "SET spark.sql.shuffle.partitions =64;"
   ]
  },
  {
   "cell_type": "code",
   "execution_count": 0,
   "metadata": {
    "application/vnd.databricks.v1+cell": {
     "cellMetadata": {
      "byteLimit": 2048000,
      "implicitDf": true,
      "rowLimit": 10000
     },
     "inputWidgets": {},
     "nuid": "ee7aa5c0-ac8a-4ff7-b283-b51b47a28858",
     "showTitle": false,
     "tableResultSettingsMap": {},
     "title": ""
    }
   },
   "outputs": [],
   "source": [
    "%sql\n",
    "-- Load the core usecase curated table as a temporary view\n",
    "CREATE OR REPLACE TABLE full_usecase_curated\n",
    "AS SELECT * FROM main.gtm_data.core_usecase_curated;\n",
    "\n",
    "-- Display the first 10 lines\n",
    "SELECT * FROM full_usecase_curated LIMIT 10;"
   ]
  },
  {
   "cell_type": "code",
   "execution_count": 0,
   "metadata": {
    "application/vnd.databricks.v1+cell": {
     "cellMetadata": {
      "byteLimit": 2048000,
      "implicitDf": true,
      "rowLimit": 10000
     },
     "inputWidgets": {},
     "nuid": "aef4d73b-0a8d-426d-b6ac-31aacd65d859",
     "showTitle": false,
     "tableResultSettingsMap": {
      "0": {
       "dataGridStateBlob": "{\"version\":1,\"tableState\":{\"columnPinning\":{\"left\":[\"#row_number#\"],\"right\":[]},\"columnSizing\":{\"ae_authority\":315},\"columnVisibility\":{}},\"settings\":{\"columns\":{}},\"syncTimestamp\":1761728414090}",
       "filterBlob": null,
       "queryPlanFiltersBlob": null,
       "tableResultIndex": 0
      }
     },
     "title": ""
    }
   },
   "outputs": [],
   "source": [
    "%sql\n",
    "CREATE OR REPLACE TABLE  filtered_usecases\n",
    "AS SELECT \n",
    "  * EXCEPT (field_manager, account_solution_architect, sales_region, num_of_blockers),\n",
    "  CASE \n",
    "    WHEN field_manager IS NULL THEN 'FLM not assigned'\n",
    "    ELSE field_manager\n",
    "  END AS field_manager,\n",
    "  CASE \n",
    "    WHEN account_solution_architect IS NULL THEN 'SA not assigned'\n",
    "    ELSE account_solution_architect\n",
    "  END AS account_solution_architect,\n",
    "  CASE\n",
    "    WHEN sales_region IS NOT NULL THEN sales_region\n",
    "    WHEN sales_region IS NULL AND business_unit IS NOT NULL THEN business_unit\n",
    "    ELSE 'No assigned'\n",
    "  END AS sales_region,\n",
    "  COALESCE(num_of_blockers, 0) AS num_of_blockers\n",
    "FROM full_usecase_curated\n",
    "WHERE \n",
    "  estimated_monthly_dollar_dbus >= 5000\n",
    "  AND stage NOT IN ('U1', 'Lost', 'Closed', 'Disqualified')\n",
    "--  AND usecase_name NOT LIKE '%Unity Catalog%'\n",
    "--  AND usecase_name NOT LIKE '%UC%'\n",
    "--  AND usecase_name NOT LIKE '%Governance%'\n",
    "  AND target_live_date BETWEEN CURRENT_DATE() AND ADD_MONTHS(CURRENT_DATE(), 6)\n",
    "  AND last_modified_date >= ADD_MONTHS(CURRENT_DATE(), -6)\n",
    "  AND (sales_region = 'EMEA' OR  business_unit = 'EMEA')\n",
    "ORDER BY estimated_monthly_dollar_dbus DESC;\n",
    "\n",
    "-- Print the first row of the filtered_usecases view\n",
    "SELECT * FROM filtered_usecases ORDER BY estimated_monthly_dollar_dbus  ASC LIMIT 10;"
   ]
  },
  {
   "cell_type": "code",
   "execution_count": 0,
   "metadata": {
    "application/vnd.databricks.v1+cell": {
     "cellMetadata": {
      "byteLimit": 2048000,
      "implicitDf": true,
      "rowLimit": 10000
     },
     "inputWidgets": {},
     "nuid": "c111f398-494f-434b-a0e6-54f396097f96",
     "showTitle": false,
     "tableResultSettingsMap": {},
     "title": ""
    }
   },
   "outputs": [],
   "source": [
    "%sql\n",
    "-- Drop the context_prompt variable if it exists before creating\n",
    "DROP TEMPORARY VARIABLE IF EXISTS context_prompt;\n",
    "\n",
    "-- Define the context summarization prompt as a variable\n",
    "DECLARE VARIABLE context_prompt STRING DEFAULT \n",
    "  'Summarize the following context and business impact into a concise paragraph (max 4 sentences). Focus on the main challenge, expected business value, the main type of contact (e.g., Executive sponsor, technical decision maker, Economic decision maker, etc), and whether funding is available or approved. Context: ';\n",
    "\n",
    "-- Generate contextual summaries using AI (optimized for clarity, null safety, and token cost)\n",
    "CREATE OR REPLACE TABLE filtered_usecases_with_context\n",
    "AS SELECT \n",
    "  *,\n",
    "  CASE \n",
    "    WHEN (sdr_bdr_notes IS NOT NULL AND LENGTH(TRIM(sdr_bdr_notes)) > 0)\n",
    "      OR (business_impact IS NOT NULL AND LENGTH(TRIM(business_impact)) > 0)\n",
    "      OR (business_outcome_description IS NOT NULL AND LENGTH(TRIM(business_outcome_description)) > 0)\n",
    "      OR (ae_authority IS NOT NULL AND LENGTH(TRIM(ae_authority)) > 0)\n",
    "      OR (ae_money_budget IS NOT NULL AND LENGTH(TRIM(ae_money_budget)) > 0)\n",
    "    THEN\n",
    "      ai_summarize(\n",
    "        CONCAT(\n",
    "          context_prompt,\n",
    "          COALESCE(TRIM(LEFT(regexp_replace(sdr_bdr_notes, '<[^>]+>', ''), 2000)), 'No context provided. '),\n",
    "          'Business Impact: ', COALESCE(TRIM(business_impact), 'No business impact provided. '),\n",
    "          'Business Outcome: ', COALESCE(TRIM(business_outcome_description), 'No business outcome provided. '),\n",
    "          'Main Contact Type: ', COALESCE(TRIM(ae_authority), 'Not specified.'),\n",
    "          'Funding Status: ', COALESCE(TRIM(ae_money_budget), 'Not specified.')\n",
    "        ),\n",
    "        100\n",
    "      )\n",
    "    ELSE\n",
    "      'No context or business impact provided.'\n",
    "  END AS context\n",
    "FROM filtered_usecases;\n",
    "\n",
    "-- Simple test: Show the context for the first rows\n",
    "SELECT context\n",
    "FROM filtered_usecases_with_context\n",
    "LIMIT 10;"
   ]
  },
  {
   "cell_type": "code",
   "execution_count": 0,
   "metadata": {
    "application/vnd.databricks.v1+cell": {
     "cellMetadata": {
      "byteLimit": 2048000,
      "implicitDf": true,
      "rowLimit": 10000
     },
     "inputWidgets": {},
     "nuid": "79c4dde9-d191-4d7f-883c-eb186a761348",
     "showTitle": false,
     "tableResultSettingsMap": {},
     "title": ""
    }
   },
   "outputs": [],
   "source": [
    "%sql\n",
    "-- Generate one-liner summaries using AI (optimized for clarity and efficiency)\n",
    "CREATE OR REPLACE TABLE usecases_with_oneliner\n",
    "AS SELECT \n",
    "  *,\n",
    "  CASE\n",
    "    WHEN (usecase_name IS NOT NULL AND LENGTH(TRIM(usecase_name)) > 0)\n",
    "      OR (usecase_description IS NOT NULL AND LENGTH(TRIM(usecase_description)) > 0)\n",
    "    THEN\n",
    "      ai_summarize(\n",
    "        CONCAT(\n",
    "          'Generate a short, clear one-line summary (max 50 words) describing the core business objective of this use case. ',\n",
    "          'Account Contex:', COALESCE(TRIM(context), 'No account context'),\n",
    "          'Use Case Name: ', COALESCE(TRIM(usecase_name), 'Use Case name not provided.'),\n",
    "          '. Description: ', COALESCE(TRIM(usecase_description), 'No description provided.')\n",
    "        ),\n",
    "        50\n",
    "      )\n",
    "    ELSE\n",
    "      'No use case name or description provided'\n",
    "  END AS one_liner\n",
    "FROM filtered_usecases_with_context;\n",
    "\n",
    "-- Simple test: Show the one_liner for the first row\n",
    "SELECT one_liner\n",
    "FROM usecases_with_oneliner\n",
    "LIMIT 10;"
   ]
  },
  {
   "cell_type": "code",
   "execution_count": 0,
   "metadata": {
    "application/vnd.databricks.v1+cell": {
     "cellMetadata": {
      "byteLimit": 2048000,
      "implicitDf": true,
      "rowLimit": 10000
     },
     "inputWidgets": {},
     "nuid": "61efee15-cd0f-4959-beab-1c21bdebd612",
     "showTitle": false,
     "tableResultSettingsMap": {},
     "title": ""
    }
   },
   "outputs": [],
   "source": [
    "%sql\n",
    "-- Generate next steps summaries using AI (optimized for clarity, cost, and reliability)\n",
    "CREATE OR REPLACE TABLE usecases_with_nextsteps\n",
    "AS SELECT \n",
    "  *,\n",
    "  CASE \n",
    "    WHEN demand_plan_stage_next_steps IS NOT NULL \n",
    "         AND LENGTH(TRIM(demand_plan_stage_next_steps)) > 0 THEN\n",
    "      ai_summarize(\n",
    "        CONCAT(\n",
    "          'Summarize the following next steps into a short, action-oriented sentence focusing on immediate priorities: ',\n",
    "          TRIM(demand_plan_stage_next_steps)\n",
    "        ),\n",
    "        100\n",
    "      )\n",
    "    ELSE\n",
    "      'No next steps provided'\n",
    "  END AS next_steps_summary\n",
    "FROM usecases_with_oneliner;\n",
    "\n",
    "-- Simple test: Show the next_steps_summary for the first 10 rows\n",
    "SELECT next_steps_summary\n",
    "FROM usecases_with_nextsteps\n",
    "LIMIT 10;"
   ]
  },
  {
   "cell_type": "code",
   "execution_count": 0,
   "metadata": {
    "application/vnd.databricks.v1+cell": {
     "cellMetadata": {
      "byteLimit": 2048000,
      "implicitDf": true,
      "rowLimit": 10000
     },
     "inputWidgets": {},
     "nuid": "6ead5fd3-c10c-4230-87df-9faca70ac207",
     "showTitle": false,
     "tableResultSettingsMap": {},
     "title": ""
    }
   },
   "outputs": [],
   "source": [
    "%sql\n",
    "-- Generate implementation notes summaries using AI\n",
    "CREATE OR REPLACE TABLE usecases_with_implementation\n",
    "AS SELECT \n",
    "  *,\n",
    "  CASE \n",
    "    WHEN implementation_notes IS NOT NULL AND LENGTH(TRIM(implementation_notes)) > 0 THEN\n",
    "      ai_summarize(\n",
    "        CONCAT(\n",
    "          'Summarize the following implementation notes into a short, action-oriented paragraph focusing on key steps, milestones, and ownership: ',\n",
    "          implementation_notes\n",
    "        ),\n",
    "        100\n",
    "      )\n",
    "    ELSE\n",
    "      'There is no implementation plan or not specified in Salesforce'\n",
    "  END AS implementation_notes_summary\n",
    "FROM usecases_with_nextsteps;\n",
    "\n",
    "-- Simple test: Show the implementation_notes_summary for the first row\n",
    "SELECT implementation_notes_summary\n",
    "FROM usecases_with_implementation\n",
    "LIMIT 10;"
   ]
  },
  {
   "cell_type": "code",
   "execution_count": 0,
   "metadata": {
    "application/vnd.databricks.v1+cell": {
     "cellMetadata": {
      "byteLimit": 2048000,
      "implicitDf": true,
      "rowLimit": 10000
     },
     "inputWidgets": {},
     "nuid": "d0e99093-787f-457f-9a79-224ef077c9cb",
     "showTitle": false,
     "tableResultSettingsMap": {},
     "title": ""
    }
   },
   "outputs": [],
   "source": [
    "%sql\n",
    "-- Classify use case types using AI\n",
    "CREATE OR REPLACE TABLE usecases_with_types\n",
    "AS SELECT \n",
    "  *,\n",
    "  CASE\n",
    "    WHEN (usecase_name IS NOT NULL AND LENGTH(TRIM(usecase_name)) > 0)\n",
    "      OR (usecase_description IS NOT NULL AND LENGTH(TRIM(usecase_description)) > 0)\n",
    "    THEN COALESCE(\n",
    "      ai_classify(\n",
    "        concat('Usecase Name: ', coalesce(trim(usecase_name), '.'), ' Description: ', coalesce(trim(usecase_description), '.')),\n",
    "        array(\n",
    "          'Machine Learning', 'Generative AI', 'Data Warehousing', 'Migration AI', 'Migration Unity Catalog',\n",
    "          'Migration DWH', 'Migration ETL', 'Migration Streaming', 'Migration BI', \n",
    "          'BI', 'ETL', 'Governance', 'Streaming', 'Ingestion', 'Platform', 'Other'\n",
    "        )\n",
    "      ),\n",
    "      'Other'\n",
    "    )\n",
    "    ELSE 'Other'\n",
    "  END AS usecase_type\n",
    "FROM usecases_with_implementation;\n",
    "\n",
    "-- Show only the created field\n",
    "SELECT usecase_type FROM usecases_with_types LIMIT 10;"
   ]
  },
  {
   "cell_type": "code",
   "execution_count": 0,
   "metadata": {
    "application/vnd.databricks.v1+cell": {
     "cellMetadata": {
      "byteLimit": 2048000,
      "implicitDf": true,
      "rowLimit": 10000
     },
     "inputWidgets": {},
     "nuid": "024f4221-eb12-4792-9bfa-f1cda79f036d",
     "showTitle": false,
     "tableResultSettingsMap": {},
     "title": ""
    }
   },
   "outputs": [],
   "source": [
    "%sql\n",
    "-- Drop the business_usecase_prompt variable if it exists before creating\n",
    "DROP TEMPORARY VARIABLE IF EXISTS business_usecase_prompt;\n",
    "\n",
    "-- Define the business use case summarization prompt as a variable\n",
    "DECLARE VARIABLE business_usecase_prompt STRING DEFAULT \n",
    "  'Given a use case name and description, return ONLY a concise business use case label (e.g. Fraud Detection, Inventory Forecasting, Customer Segmentation). Output exactly one short phrase, max 5 words, no punctuation or explanation. Usecase Name: ';\n",
    "\n",
    "CREATE OR REPLACE TABLE usecases_with_business_types\n",
    "AS SELECT \n",
    "  *,\n",
    "  COALESCE(\n",
    "    ai_query(\n",
    "      'databricks-gpt-oss-20b',\n",
    "      CONCAT(\n",
    "        business_usecase_prompt,\n",
    "        COALESCE(TRIM(usecase_name), 'Unknown'), \n",
    "        '. Description: ', COALESCE(TRIM(usecase_description), 'No description')\n",
    "      ),\n",
    "      named_struct('max_tokens', 20, 'temperature', 0.0, 'failOnError', false)\n",
    "    ),\n",
    "    'Unknown Business Use Case'\n",
    "  ) AS business_usecase_type\n",
    "FROM usecases_with_types;\n",
    "\n",
    "-- Simple test: Show the business_usecase_type for the first row\n",
    "SELECT business_usecase_type\n",
    "FROM usecases_with_business_types\n",
    "LIMIT 10;"
   ]
  },
  {
   "cell_type": "code",
   "execution_count": 0,
   "metadata": {
    "application/vnd.databricks.v1+cell": {
     "cellMetadata": {
      "byteLimit": 2048000,
      "implicitDf": true,
      "rowLimit": 10000
     },
     "inputWidgets": {},
     "nuid": "60651347-277a-47b3-aced-575ce5b034d1",
     "showTitle": false,
     "tableResultSettingsMap": {},
     "title": ""
    }
   },
   "outputs": [],
   "source": [
    "%sql\n",
    "-- Drop the blockers_prompt variable if it exists before creating\n",
    "DROP TEMPORARY VARIABLE IF EXISTS blockers_prompt;\n",
    "\n",
    "-- Define the blockers summarization prompt as a variable\n",
    "DECLARE VARIABLE blockers_prompt STRING DEFAULT 'There are {num} blockers. Briefly summarize the main theme or issue based on the latest blocker comment: ';\n",
    "\n",
    "CREATE OR REPLACE TABLE usecases_with_blockers\n",
    "AS SELECT *,\n",
    "       CASE \n",
    "         WHEN COALESCE(num_of_blockers, 0) = 0 THEN 'There are 0 blockers'\n",
    "         WHEN (last_modified_blocker_category IS NULL OR LENGTH(TRIM(last_modified_blocker_category)) = 0)\n",
    "           AND (last_modified_blocker_comment IS NULL OR LENGTH(TRIM(last_modified_blocker_comment)) = 0)\n",
    "           THEN 'Blocker details not provided'\n",
    "         ELSE CONCAT(\n",
    "           'There are ', COALESCE(CAST(num_of_blockers AS STRING), '0'), ' blockers. ',\n",
    "           ai_summarize(\n",
    "             CONCAT(\n",
    "               REPLACE(blockers_prompt, '{num}', COALESCE(CAST(num_of_blockers AS STRING), '0')),\n",
    "               CASE \n",
    "                 WHEN last_modified_blocker_category IS NOT NULL AND LENGTH(TRIM(last_modified_blocker_category)) > 0 \n",
    "                   THEN CONCAT('Category: ', TRIM(last_modified_blocker_category), '. ')\n",
    "                 ELSE ''\n",
    "               END,\n",
    "               COALESCE(TRIM(last_modified_blocker_comment), 'No blocker comment provided.')\n",
    "             ),\n",
    "             50\n",
    "           )\n",
    "         )\n",
    "       END AS blockers_summary\n",
    "FROM usecases_with_business_types;\n",
    "\n",
    "-- Simple test: Show the blockers_summary for the first row\n",
    "SELECT blockers_summary\n",
    "FROM usecases_with_blockers\n",
    "LIMIT 10;"
   ]
  },
  {
   "cell_type": "code",
   "execution_count": 0,
   "metadata": {
    "application/vnd.databricks.v1+cell": {
     "cellMetadata": {
      "byteLimit": 2048000,
      "implicitDf": true,
      "rowLimit": 10000
     },
     "inputWidgets": {},
     "nuid": "b01408db-3954-45c5-9e3f-dc86b4ff4241",
     "showTitle": false,
     "tableResultSettingsMap": {},
     "title": ""
    }
   },
   "outputs": [],
   "source": [
    "%sql\n",
    "-- Drop the ai_confidence_prompt variable if it exists before creating\n",
    "DROP TEMPORARY VARIABLE IF EXISTS ai_confidence_prompt;\n",
    "\n",
    "-- Define the AI confidence prompt as a variable (using \\n for clarity and structure)\n",
    "DECLARE VARIABLE ai_confidence_prompt STRING DEFAULT \n",
    "  'Using the MEDDPICC framework, and the following context, output a confidence score (0-100) for successful go-live. Only output the number that is multiple of 10.\\n'\n",
    " 'Context:\\n'\n",
    " 'Account context: {context}\\n'\n",
    " 'Use Case: {one_liner}\\n'\n",
    " 'Next steps: {next_steps_summary}\\n'\n",
    " 'Implementation notes: {implementation_notes_summary}\\n'\n",
    " 'Blockers: {blockers_summary}\\n'\n",
    " 'Competition: {competition_string}\\n';\n",
    "\n",
    "-- Define the advanced AI confidence prompt as a variable\n",
    "DROP TEMPORARY VARIABLE IF EXISTS ai_confidence_prompt_advanced;\n",
    "\n",
    "DECLARE VARIABLE ai_confidence_prompt_advanced STRING DEFAULT\n",
    "  'You are a Databricks Solutions Architect evaluating a customer use case and scoring its likelihood to reach production and generate sustained usage.\\n\\n'\n",
    "\n",
    "  'Rate the use case using these MEDDPICC-based dimensions (0–10 each):\\n'\n",
    "  '1. Pain – Clear, urgent business problem?\\n'\n",
    "  '2. Champion – Identified internal advocate?\\n'\n",
    "  '3. Implementation Plan – Concrete next steps and ownership?\\n'\n",
    "  '4. Decision Process – Clear decision path?\\n'\n",
    "  '5. Urgency – Time pressure or deadline?\\n'\n",
    "  '6. Competition Awareness – Known competitors?\\n'\n",
    "  '7. Measurable Impact – Defined success metrics?\\n'\n",
    "  '8. Major Blockers – Significant obstacles (higher score = **more blockers**).\\n\\n'\n",
    "\n",
    "'Rules:\\n'\n",
    "'- Base scores strictly on available evidence — do not speculate or imagine missing info.\\n'\n",
    "'- If information is missing, assign a low score (≤3) for that dimension.\\n'\n",
    "'- Use these weightings: Pain 25%, Champion 20%, Implementation Plan 20%, Decision Process 10%, Urgency 10%, Competition Awareness 5%, Measurable Impact 2%, Major Blockers -8% (deductive).\\n'\n",
    "'- Compute the total confidence_score as: (Pain×0.25 + Champion×0.20 + ImplementationPlan×0.20 + DecisionProcess×0.10 + Urgency×0.10 + CompetitionAwareness×0.05 + MeasurableImpact×0.02 - MajorBlockers×0.08) × 10.\\n'\n",
    "'- A perfect use case (10s across positive dimensions, 0 blockers) scores 100.\\n'\n",
    "'- The total confidence_score must be between 0 and 100, rounded to the nearest multiple of 10.\\n'\n",
    "\n",
    "\n",
    "  'Context:\\n'\n",
    "  'Account context: {context}\\n'\n",
    "  'Use Case: {one_liner}\\n'\n",
    "  'Next steps: {next_steps_summary}\\n'\n",
    "  'Implementation notes: {implementation_notes_summary}\\n'\n",
    "  'Blockers: {blockers_summary}\\n'\n",
    "  'Competition: {competition_string}\\n\\n'\n",
    "\n",
    "  'Return output in **this exact format** (no text before or after):\\n\\n'\n",
    "  'CONFIDENCE_SCORE: [0–100 number]\\n'\n",
    "  'LEVEL: [High || Medium || Low]\\n'\n",
    "  'RATIONALE: [Brief explanation, 2–3 sentences max]\\n'\n",
    "  'DIMENSION_SCORES: Pain=x, Champion=x, ImplementationPlan=x, DecisionProcess=x, Urgency=x, CompetitionAwareness=x, MajorBlockers=x, MeasurableImpact=x';\n",
    "\n",
    "-- Create or replace a temporary view 'usecases_with_ai_confidence' that adds only the advanced AI-generated confidence score\n",
    "CREATE OR REPLACE TABLE usecases_with_ai_confidence AS\n",
    "SELECT\n",
    "  *,\n",
    "  COALESCE(\n",
    "    ai_query(\n",
    "      'databricks-gpt-oss-20b',\n",
    "      REPLACE(\n",
    "        REPLACE(\n",
    "          REPLACE(\n",
    "            REPLACE(\n",
    "              REPLACE(\n",
    "                REPLACE(\n",
    "                  ai_confidence_prompt_advanced,\n",
    "                  '{context}', COALESCE(context, 'None')\n",
    "                ),\n",
    "                '{one_liner}', COALESCE(one_liner, 'None')\n",
    "              ),\n",
    "              '{next_steps_summary}', COALESCE(next_steps_summary, 'None')\n",
    "            ),\n",
    "            '{implementation_notes_summary}', COALESCE(implementation_notes_summary, 'None')\n",
    "          ),\n",
    "          '{blockers_summary}', COALESCE(blockers_summary, 'None')\n",
    "        ),\n",
    "        '{competition_string}', COALESCE(competition_string, 'None')\n",
    "      ),\n",
    "      named_struct('max_tokens', 200, 'temperature', 0.0, 'top_p', 0.1, 'failOnError', false)\n",
    "    ),\n",
    "    'CONFIDENCE_SCORE: 0\\nLEVEL: Low\\nRATIONALE: No information provided.\\nDIMENSION_SCORES: Pain=0, Champion=0, ImplementationPlan=0, DecisionProcess=0, Urgency=0, CompetitionAwareness=0, MajorBlockers=0, MeasurableImpact=0'\n",
    "  ) AS ai_confidence_score_advanced\n",
    "FROM usecases_with_blockers;\n",
    "\n",
    "-- Show the first ten advanced AI confidence scores\n",
    "SELECT ai_confidence_score_advanced\n",
    "FROM usecases_with_ai_confidence\n",
    "LIMIT 10;"
   ]
  },
  {
   "cell_type": "code",
   "execution_count": 0,
   "metadata": {
    "application/vnd.databricks.v1+cell": {
     "cellMetadata": {},
     "inputWidgets": {},
     "nuid": "654ff1d6-2b67-4426-91a7-f53185ff2112",
     "showTitle": true,
     "tableResultSettingsMap": {},
     "title": "Parallel Processing Setup"
    }
   },
   "outputs": [],
   "source": []
  },
  {
   "cell_type": "code",
   "execution_count": 0,
   "metadata": {
    "application/vnd.databricks.v1+cell": {
     "cellMetadata": {},
     "inputWidgets": {},
     "nuid": "3301472c-ade8-406f-835c-b3215dfaa226",
     "showTitle": true,
     "tableResultSettingsMap": {},
     "title": "Region-Based Processing Functions"
    }
   },
   "outputs": [],
   "source": []
  },
  {
   "cell_type": "code",
   "execution_count": 0,
   "metadata": {
    "application/vnd.databricks.v1+cell": {
     "cellMetadata": {},
     "inputWidgets": {},
     "nuid": "86487d3b-9234-46db-8daf-9eb16076fe74",
     "showTitle": true,
     "tableResultSettingsMap": {},
     "title": "Execute Parallel Context Processing"
    }
   },
   "outputs": [],
   "source": []
  },
  {
   "cell_type": "code",
   "execution_count": 0,
   "metadata": {
    "application/vnd.databricks.v1+cell": {
     "cellMetadata": {},
     "inputWidgets": {},
     "nuid": "4eac37b3-715e-4d87-a198-d0d5cdad1f89",
     "showTitle": true,
     "tableResultSettingsMap": {},
     "title": "Execute Parallel One-liner Processing"
    }
   },
   "outputs": [],
   "source": []
  },
  {
   "cell_type": "code",
   "execution_count": 0,
   "metadata": {
    "application/vnd.databricks.v1+cell": {
     "cellMetadata": {},
     "inputWidgets": {},
     "nuid": "9b28f4fc-e596-43d1-84e8-1a01d00151b2",
     "showTitle": true,
     "tableResultSettingsMap": {},
     "title": "Consolidate Regional Results"
    }
   },
   "outputs": [],
   "source": []
  },
  {
   "cell_type": "code",
   "execution_count": 0,
   "metadata": {
    "application/vnd.databricks.v1+cell": {
     "cellMetadata": {},
     "inputWidgets": {},
     "nuid": "ad26538f-9b28-4e44-82d1-5e65753aa42a",
     "showTitle": true,
     "tableResultSettingsMap": {},
     "title": "Cleanup Regional Tables"
    }
   },
   "outputs": [],
   "source": []
  },
  {
   "cell_type": "code",
   "execution_count": 0,
   "metadata": {
    "application/vnd.databricks.v1+cell": {
     "cellMetadata": {},
     "inputWidgets": {},
     "nuid": "76cbd68d-4f75-4064-830f-6763f7e78508",
     "showTitle": true,
     "tableResultSettingsMap": {},
     "title": "Verify Parallel Results"
    }
   },
   "outputs": [],
   "source": []
  },
  {
   "cell_type": "code",
   "execution_count": 0,
   "metadata": {
    "application/vnd.databricks.v1+cell": {
     "cellMetadata": {
      "byteLimit": 2048000,
      "implicitDf": true,
      "rowLimit": 10000
     },
     "inputWidgets": {},
     "nuid": "d9d5a6cf-a861-4c1d-909f-1fb448b79f30",
     "showTitle": false,
     "tableResultSettingsMap": {},
     "title": ""
    }
   },
   "outputs": [],
   "source": [
    "%sql\n",
    "CREATE OR REPLACE TABLE usecases_confidence_scores AS\n",
    "SELECT\n",
    "  *,\n",
    "  -- 1️⃣ Extract confidence score (number 0–100)\n",
    "  CAST(\n",
    "    regexp_extract(ai_confidence_score_advanced, 'CONFIDENCE_SCORE:\\\\s*(\\\\d+)', 1)\n",
    "    AS INT\n",
    "  ) AS confidence_score,\n",
    "\n",
    "  -- 2️⃣ Extract confidence level (High / Medium / Low)\n",
    "  regexp_extract(ai_confidence_score_advanced, 'LEVEL:\\\\s*(High|Medium|Low)', 1) AS confidence_level,\n",
    "\n",
    "  -- 3️⃣ Extract rationale (until the DIMENSION_SCORES section)\n",
    "  regexp_extract(ai_confidence_score_advanced, 'RATIONALE:\\\\s*(.+?)\\\\s*DIMENSION_SCORES:', 1) AS rationale_for_confidence_score,\n",
    "\n",
    "  -- 4️⃣ Extract individual dimension scores\n",
    "  CAST(regexp_extract(ai_confidence_score_advanced, 'Pain=(\\\\d+)', 1) AS INT) AS pain_score,\n",
    "  CAST(regexp_extract(ai_confidence_score_advanced, 'Champion=(\\\\d+)', 1) AS INT) AS champion_score,\n",
    "  CAST(regexp_extract(ai_confidence_score_advanced, 'ImplementationPlan=(\\\\d+)', 1) AS INT) AS implementationplan_score,\n",
    "  CAST(regexp_extract(ai_confidence_score_advanced, 'DecisionProcess=(\\\\d+)', 1) AS INT) AS decisionprocess_score,\n",
    "  CAST(regexp_extract(ai_confidence_score_advanced, 'Urgency=(\\\\d+)', 1) AS INT) AS urgency_score,\n",
    "  CAST(regexp_extract(ai_confidence_score_advanced, 'CompetitionAwareness=(\\\\d+)', 1) AS INT) AS competitionawareness_score,\n",
    "  CAST(regexp_extract(ai_confidence_score_advanced, 'MajorBlockers=(\\\\d+)', 1) AS INT) AS majorblockers_score,\n",
    "  CAST(regexp_extract(ai_confidence_score_advanced, 'MeasurableImpact=(\\\\d+)', 1) AS INT) AS measurableimpact_score\n",
    "\n",
    "FROM usecases_with_ai_confidence;\n",
    "\n",
    "SELECT\n",
    "  confidence_score,\n",
    "  confidence_level,\n",
    "  rationale_for_confidence_score,\n",
    "  pain_score,\n",
    "  champion_score,\n",
    "  implementationplan_score,\n",
    "  decisionprocess_score,\n",
    "  urgency_score,\n",
    "  competitionawareness_score,\n",
    "  majorblockers_score,\n",
    "  measurableimpact_score\n",
    "FROM usecases_confidence_scores\n",
    "LIMIT 10;"
   ]
  },
  {
   "cell_type": "code",
   "execution_count": 0,
   "metadata": {
    "application/vnd.databricks.v1+cell": {
     "cellMetadata": {
      "byteLimit": 2048000,
      "implicitDf": true,
      "rowLimit": 10000
     },
     "inputWidgets": {},
     "nuid": "5c97c1b6-5fae-4ba7-8328-777dc0b2f4dc",
     "showTitle": false,
     "tableResultSettingsMap": {},
     "title": ""
    }
   },
   "outputs": [],
   "source": [
    "%sql\n",
    "CREATE OR REPLACE TABLE usecases_confidence_scores_normalized AS\n",
    "SELECT\n",
    "  *,\n",
    "  CASE\n",
    "    WHEN confidence_score >= 75 THEN 'High'\n",
    "    WHEN confidence_score >= 45 THEN 'Medium'\n",
    "    WHEN confidence_score IS NOT NULL THEN 'Low'\n",
    "    ELSE 'Not computed'\n",
    "  END AS confidence_level_normalized\n",
    "FROM usecases_confidence_scores;\n",
    "\n",
    "-- Show the first 10 rows with confidence_score and its normalized level\n",
    "SELECT\n",
    "  confidence_score,\n",
    "  confidence_level_normalized\n",
    "FROM usecases_confidence_scores_normalized\n",
    "LIMIT 10;"
   ]
  },
  {
   "cell_type": "code",
   "execution_count": 0,
   "metadata": {
    "application/vnd.databricks.v1+cell": {
     "cellMetadata": {
      "byteLimit": 2048000,
      "implicitDf": true,
      "rowLimit": 10000
     },
     "inputWidgets": {},
     "nuid": "cd55cdec-0b94-4cf3-ab84-e7cf0a5779e0",
     "showTitle": false,
     "tableResultSettingsMap": {},
     "title": ""
    }
   },
   "outputs": [],
   "source": [
    "%sql\n",
    "\n",
    "\n",
    "CREATE OR REPLACE TABLE usecases_with_analysis\n",
    "AS\n",
    "SELECT\n",
    "  *,\n",
    "  COALESCE(\n",
    "    ai_query(\n",
    "      'databricks-gpt-oss-20b',\n",
    "      CONCAT(\n",
    "        'You are a Databricks Solutions Architect helping an account team decide the next best action for a customer account and a specific use case.\\n',\n",
    "        'Inputs:\\n',\n",
    "        'Account context: ', COALESCE(context, 'None'), '\\n',\n",
    "        'Use Case: ', COALESCE(one_liner, 'None'), '\\n',\n",
    "        'Next steps summary: ', COALESCE(next_steps_summary, 'None'), '\\n',\n",
    "        'Implementation notes: ', COALESCE(implementation_notes_summary, 'None'), '\\n',\n",
    "        'Blockers: ', COALESCE(blockers_summary, 'None'), '\\n',\n",
    "        'Competition: ', COALESCE(competition_string, 'None'), '\\n',\n",
    "        'MEDDPICC dimension scores: Pain=', COALESCE(CAST(pain_score AS STRING), 'None'),\n",
    "        ', Champion=', COALESCE(CAST(champion_score AS STRING), 'None'),\n",
    "        ', ImplementationPlan=', COALESCE(CAST(implementationplan_score AS STRING), 'None'),\n",
    "        ', DecisionProcess=', COALESCE(CAST(decisionprocess_score AS STRING), 'None'),\n",
    "        ', Urgency=', COALESCE(CAST(urgency_score AS STRING), 'None'),\n",
    "        ', CompetitionAwareness=', COALESCE(CAST(competitionawareness_score AS STRING), 'None'),\n",
    "        ', MajorBlockers=', COALESCE(CAST(majorblockers_score AS STRING), 'None'),\n",
    "        ', MeasurableImpact=', COALESCE(CAST(measurableimpact_score AS STRING), 'None'), '\\n',\n",
    "        'Overall confidence level: ', COALESCE(confidence_level_normalized, 'None'), '\\n\\n',\n",
    "        'Rules:\\n',\n",
    "        '1. Base your recommendation strictly on the evidence provided — do not assume missing information.\\n',\n",
    "        '2. Prioritize actions that maximize the likelihood of a successful go-live and reduce blockers.\\n',\n",
    "        '3. If Pain, Champion, or Implementation Plan is low (<5/10), suggest actions to strengthen these dimensions first.\\n',\n",
    "        '4. If Major Blockers > 5/10, suggest actions to mitigate or remove the blockers.\\n',\n",
    "        '5. If Urgency is high (>7/10), prioritize time-sensitive actions.\\n',\n",
    "        '6. Provide one concise, actionable next step, written as if for the account team to execute within the next week.\\n',\n",
    "        '7. Keep your answer short — 1–2 sentences max.\\n',\n",
    "        '8. Be deterministic: always follow the rules exactly and do not vary wording unnecessarily.\\n\\n',\n",
    "        'Return output in this exact format (no extra text):\\n\\n',\n",
    "        'NEXT_BEST_ACTION: [Short, actionable recommendation for the account team]\\n',\n",
    "        'RATIONALE: [Brief explanation linking the action to the MEDDPICC scores and blockers, ≤2 sentences]'\n",
    "      ),\n",
    "      named_struct('max_tokens', 200, 'temperature', 0.0, 'top_p', 0.1, 'failOnError', false)\n",
    "    ),\n",
    "    'NEXT_BEST_ACTION: Review MEDDPICC evidence and address missing information.\\nRATIONALE: No sufficient context or scores provided to generate a specific action.'\n",
    "  ) AS next_best_action_recommendation\n",
    "FROM usecases_confidence_scores_normalized;\n",
    "\n",
    "-- Show the first 10 recommendations created\n",
    "SELECT next_best_action_recommendation\n",
    "FROM usecases_with_next_best_action\n",
    "LIMIT 10;"
   ]
  },
  {
   "cell_type": "code",
   "execution_count": 0,
   "metadata": {
    "application/vnd.databricks.v1+cell": {
     "cellMetadata": {
      "byteLimit": 2048000,
      "implicitDf": true,
      "rowLimit": 10000
     },
     "inputWidgets": {},
     "nuid": "edbf40a6-ae75-4fda-9d84-1707b7283ab6",
     "showTitle": false,
     "tableResultSettingsMap": {},
     "title": ""
    }
   },
   "outputs": [],
   "source": [
    "%sql\n",
    "CREATE OR REPLACE TABLE slippage_categories\n",
    "USING DELTA\n",
    "AS SELECT * FROM VALUES\n",
    "  ('Technical', 'If slippage stems from missing features, technical blockers, or unresolved bugs'),\n",
    "  ('Business', 'If slippage is due to shifting business priorities, unclear value, or deprioritization'),\n",
    "  ('Stakeholder', 'If slippage results from lack of stakeholder buy-in, engagement, or sponsor turnover'),\n",
    "  ('Budget', 'If slippage is caused by funding gaps, delayed approvals, or budget freezes'),\n",
    "  ('Project Timelines', 'If slippage is driven by unrealistic schedules, missed milestones, or dependencies'),\n",
    "  ('Data', 'If slippage comes from data issues (access, quality, privacy, or integration)'),\n",
    "  ('Integration', 'If slippage is due to system connectivity, API, or tooling integration problems'),\n",
    "  ('Partner', 'If slippage originates from partner-side limitations, bandwidth, or enablement gaps'),\n",
    "  ('Hyperscaler', 'If slippage stems from hyperscaler constraints (region, quota, roadmap, or policies)'),\n",
    "  ('Competition', 'If slippage is triggered by market shifts or competitive reprioritization'),\n",
    "  ('External dependencies', 'If slippage comes from external third parties or customer-side dependencies'),\n",
    "  ('Other', 'If the cause doesn''t fit any of the above')\n",
    "AS t(type, description);"
   ]
  },
  {
   "cell_type": "code",
   "execution_count": 0,
   "metadata": {
    "application/vnd.databricks.v1+cell": {
     "cellMetadata": {
      "byteLimit": 2048000,
      "implicitDf": true,
      "rowLimit": 10000
     },
     "inputWidgets": {},
     "nuid": "f80f4eca-b55f-4f89-b7ca-0677c1e7aa00",
     "showTitle": false,
     "tableResultSettingsMap": {},
     "title": ""
    }
   },
   "outputs": [],
   "source": [
    "%sql\n",
    "-- Classify use case slippage likelihood and category using AI\n",
    "CREATE OR REPLACE TABLE usecases_with_slippage AS\n",
    "SELECT \n",
    "  *,\n",
    "  \n",
    "  -- Flag use cases likely to slip\n",
    "  CASE \n",
    "    WHEN confidence_level_normalized = 'Medium' THEN true\n",
    "    ELSE false\n",
    "  END AS likely_to_slip,\n",
    "\n",
    "  -- Classify slippage category\n",
    "  CASE\n",
    "    WHEN confidence_level_normalized = 'Medium'\n",
    "    THEN COALESCE(\n",
    "      ai_query(\n",
    "        'databricks-gpt-oss-20b',\n",
    "        CONCAT(\n",
    "          'You are a Databricks Senior Solutions Architect.\\n',\n",
    "          'Classify the PRIMARY reason this use case is likely to slip. Choose exactly ONE from:\\n',\n",
    "          '[Technical, Business, Stakeholder, Budget, Project Timelines, Data, Integration, Partner, Hyperscaler, Competition, Other, External dependencies]\\n\\n',\n",
    "          'Decision Rules:\\n',\n",
    "          '- Technical → missing features, blockers, or bugs.\\n',\n",
    "          '- Business → shifting priorities or unclear value.\\n',\n",
    "          '- Stakeholder → low buy-in or sponsor turnover.\\n',\n",
    "          '- Budget → funding or approval delays.\\n',\n",
    "          '- Project Timelines → missed milestones or dependencies.\\n',\n",
    "          '- Data → quality, access, or integration issues.\\n',\n",
    "          '- Integration → tooling or system connectivity issues.\\n',\n",
    "          '- Partner → bandwidth or enablement gaps.\\n',\n",
    "          '- Hyperscaler → regional, quota, or policy constraints.\\n',\n",
    "          '- Competition → market or rival-driven reprioritization.\\n',\n",
    "          '- External dependencies → third-party or customer-side blockers.\\n',\n",
    "          '- Other → none of the above.\\n\\n',\n",
    "          'Return exactly ONE of those category names. No punctuation or explanation.\\n\\n',\n",
    "          'Inputs:\\n',\n",
    "          'Confidence Score Rationale: ', COALESCE(LEFT(rationale_for_confidence_score, 200), 'N/A'), '\\n',\n",
    "          'Next Step: ', COALESCE(LEFT(next_best_action_recommendation, 200), 'N/A')\n",
    "        ),\n",
    "        named_struct('max_tokens', 200, 'temperature', 0.0, 'top_p', 0.1, 'failOnError', false)\n",
    "      ),\n",
    "      'Unable to determine slippage category'\n",
    "    )\n",
    "    ELSE 'N/A'\n",
    "  END AS slippage_category\n",
    "\n",
    "FROM usecases_with_analysis;\n",
    "\n",
    "-- Show the first 10 rows with only the created field\n",
    "SELECT rationale_for_confidence_score, next_best_action_recommendation, slippage_category\n",
    "FROM usecases_with_slippage\n",
    "LIMIT 10;"
   ]
  },
  {
   "cell_type": "code",
   "execution_count": 0,
   "metadata": {
    "application/vnd.databricks.v1+cell": {
     "cellMetadata": {
      "byteLimit": 2048000,
      "implicitDf": true,
      "rowLimit": 10000
     },
     "inputWidgets": {},
     "nuid": "433c9607-3097-4c3b-a7ae-29730ea9e9fa",
     "showTitle": false,
     "tableResultSettingsMap": {},
     "title": ""
    }
   },
   "outputs": [],
   "source": [
    "%sql \n",
    "CREATE OR REPLACE TABLE acceleration_categories \n",
    "USING DELTA\n",
    "AS SELECT * FROM VALUES\n",
    "  ('Implementation Planning', 'If acceleration comes from clarifying the WHAT/WHEN/WHO (critical path, milestones, owners)'),\n",
    "  ('Resource Allocation', 'If the plan exists but we need people/tools/compute NOW'),\n",
    "  ('Stakeholder Engagement', 'If acceleration is through stakeholder alignment, exec cadence, or clearing decisions'),\n",
    "  ('Technical Optimization', 'If acceleration is via performance, architecture, or integration tuning'),\n",
    "  ('Innovation and Technology Enablement', 'If acceleration is via templates, automation, or accelerators (including AI assistants)'),\n",
    "  ('Governance and Support', 'If acceleration is via operating rhythm (steering, dashboards, SLAs, support processes)'),\n",
    "  ('Capability Development', 'If acceleration is via training/upskilling/knowledge transfer'),\n",
    "  ('Partnership Leverage', 'If a partner''s expertise/assets are the key lever'),\n",
    "  ('Funding', 'If acceleration is due to securing or expediting funding, budget approvals, or financial resources'),\n",
    "  ('Other', 'If unclear or does not fit any of the above')\n",
    "AS t(type, description);"
   ]
  },
  {
   "cell_type": "code",
   "execution_count": 0,
   "metadata": {
    "application/vnd.databricks.v1+cell": {
     "cellMetadata": {
      "byteLimit": 2048000,
      "implicitDf": true,
      "rowLimit": 10000
     },
     "inputWidgets": {},
     "nuid": "b5366bc8-8ffa-418f-90a1-d47fc810f6f7",
     "showTitle": true,
     "tableResultSettingsMap": {},
     "title": "Classify acceleration categories using AI"
    }
   },
   "outputs": [],
   "source": [
    "%sql\n",
    "-- Classify acceleration categories using AI\n",
    "CREATE OR REPLACE TABLE  usecases_with_acceleration AS\n",
    "SELECT \n",
    "  *,\n",
    "  CASE \n",
    "    WHEN confidence_level_normalized = 'Medium' THEN true\n",
    "    When confidence_level_normalized = 'High' THEN true\n",
    "    ELSE false\n",
    "  END AS can_be_accelerated,\n",
    "  \n",
    "  CASE\n",
    "    WHEN confidence_level_normalized in ('Medium','High') THEN \n",
    "      COALESCE(\n",
    "      ai_query(\n",
    "        'databricks-gpt-oss-20b',\n",
    "        CONCAT(\n",
    "          'You are a Databricks Senior Solutions Architect.\\n',\n",
    "          'Classify the PRIMARY reason this use case could be accelerated.\\n',\n",
    "          'Choose exactly ONE label from:\\n',\n",
    "          '[Implementation Planning, Resource Allocation, Stakeholder Engagement, Technical Optimization, Partnership Leverage, Governance and Support, Innovation and Technology Enablement, Capability Development, Funding, Other]\\n\\n',\n",
    "          'Decision rules:\\n',\n",
    "          '- Implementation Planning → clarifying the WHAT/WHEN/WHO (critical path, milestones, owners).\\n',\n",
    "          '- Resource Allocation → people/tools/compute NOW.\\n',\n",
    "          '- Stakeholder Engagement → alignment, cadence, or decisions.\\n',\n",
    "          '- Technical Optimization → performance, architecture, integration tuning.\\n',\n",
    "          '- Innovation and Technology Enablement → templates, automation, AI accelerators.\\n',\n",
    "          '- Governance and Support → steering, dashboards, SLAs, support.\\n',\n",
    "          '- Capability Development → training, upskilling, knowledge transfer.\\n',\n",
    "          '- Partnership Leverage → partner expertise/assets as key lever.\\n',\n",
    "          '- Funding → securing or expediting budget, approvals, resources.\\n',\n",
    "          '- Other → none of the above.\\n\\n',\n",
    "          'Return exactly one of the labels above — no punctuation or explanation.\\n\\n',\n",
    "          'Context:\\n',\n",
    "          'Confidence Score Rationale: ', COALESCE(LEFT(rationale_for_confidence_score, 200), 'N/A'), '\\n',\n",
    "          'Next Step: ', COALESCE(LEFT(next_best_action_recommendation, 200), 'N/A')\n",
    "        ),\n",
    "       named_struct('max_tokens', 200, 'temperature', 0.0, 'top_p', 0.1, 'failOnError', false)\n",
    "      ),\n",
    "      'Unable to determine acceleration category'\n",
    "    )\n",
    "    ELSE 'N/A'\n",
    "  END AS accel_category\n",
    "FROM usecases_with_slippage;\n",
    "\n",
    "\n",
    "-- Show the first 10 rows with only the created field\n",
    "SELECT rationale_for_confidence_score, next_best_action_recommendation, accel_category\n",
    "FROM usecases_with_acceleration\n",
    "LIMIT 10;\n"
   ]
  },
  {
   "cell_type": "code",
   "execution_count": 0,
   "metadata": {
    "application/vnd.databricks.v1+cell": {
     "cellMetadata": {
      "byteLimit": 2048000,
      "implicitDf": true,
      "rowLimit": 10000
     },
     "inputWidgets": {},
     "nuid": "d1da1d93-3887-4bcd-9688-7a739f793903",
     "showTitle": true,
     "tableResultSettingsMap": {},
     "title": "Create PipelineIQ View"
    }
   },
   "outputs": [],
   "source": [
    "%sql\n",
    "\n",
    "-- Create the final table with all AI-enriched fields\n",
    "CREATE OR REPLACE TABLE pipelineiq\n",
    "USING DELTA\n",
    "TBLPROPERTIES ('delta.minReaderVersion'='2', 'delta.minWriterVersion'='5')\n",
    "COMMENT 'PipelineIQ: Use case pipeline with AI-enriched fields.'\n",
    "AS SELECT * FROM usecases_with_acceleration;\n",
    "\n",
    "-- Display the first 10 lines of pipelineiq\n",
    "SELECT * FROM pipelineiq LIMIT 10;"
   ]
  },
  {
   "cell_type": "code",
   "execution_count": 0,
   "metadata": {
    "application/vnd.databricks.v1+cell": {
     "cellMetadata": {
      "byteLimit": 2048000,
      "implicitDf": true,
      "rowLimit": 10000
     },
     "inputWidgets": {},
     "nuid": "bc2e36e3-9fbc-4730-a3c7-6c4cd0e687b0",
     "showTitle": false,
     "tableResultSettingsMap": {},
     "title": ""
    }
   },
   "outputs": [],
   "source": [
    "%sql\n",
    "-- Add column comments for new AI-generated fields\n",
    "ALTER TABLE pipelineiq ALTER COLUMN context COMMENT 'AI-generated summary of BDR context and business impact for the use case';\n",
    "ALTER TABLE pipelineiq ALTER COLUMN one_liner COMMENT 'AI-generated concise summary of the use case';\n",
    "ALTER TABLE pipelineiq ALTER COLUMN next_steps_summary COMMENT 'AI-generated summary of next steps for the use case';\n",
    "ALTER TABLE pipelineiq ALTER COLUMN implementation_notes_summary COMMENT 'AI-generated summary of implementation notes';\n",
    "ALTER TABLE pipelineiq ALTER COLUMN blockers_summary COMMENT 'AI-generated summary of blockers';\n",
    "ALTER TABLE pipelineiq ALTER COLUMN usecase_type COMMENT 'AI-classified technical use case category';\n",
    "ALTER TABLE pipelineiq ALTER COLUMN business_usecase_type COMMENT 'AI-generated business use case label (max 5 words)';\n",
    "ALTER TABLE pipelineiq ALTER COLUMN confidence_score COMMENT 'AI-extracted confidence score (0-100) for successful go-live';\n",
    "ALTER TABLE pipelineiq ALTER COLUMN confidence_level COMMENT 'AI-extracted confidence level (High, Medium, Low)';\n",
    "ALTER TABLE pipelineiq ALTER COLUMN rationale_for_confidence_score COMMENT 'AI-extracted rationale for confidence score';\n",
    "ALTER TABLE pipelineiq ALTER COLUMN pain_score COMMENT 'AI-extracted MEDDPICC Pain dimension score (0-10)';\n",
    "ALTER TABLE pipelineiq ALTER COLUMN champion_score COMMENT 'AI-extracted MEDDPICC Champion dimension score (0-10)';\n",
    "ALTER TABLE pipelineiq ALTER COLUMN implementationplan_score COMMENT 'AI-extracted MEDDPICC Implementation Plan dimension score (0-10)';\n",
    "ALTER TABLE pipelineiq ALTER COLUMN decisionprocess_score COMMENT 'AI-extracted MEDDPICC Decision Process dimension score (0-10)';\n",
    "ALTER TABLE pipelineiq ALTER COLUMN urgency_score COMMENT 'AI-extracted MEDDPICC Urgency dimension score (0-10)';\n",
    "ALTER TABLE pipelineiq ALTER COLUMN competitionawareness_score COMMENT 'AI-extracted MEDDPICC Competition Awareness dimension score (0-10)';\n",
    "ALTER TABLE pipelineiq ALTER COLUMN majorblockers_score COMMENT 'AI-extracted MEDDPICC Major Blockers dimension score (0-10)';\n",
    "ALTER TABLE pipelineiq ALTER COLUMN measurableimpact_score COMMENT 'AI-extracted MEDDPICC Measurable Impact dimension score (0-10)';\n",
    "ALTER TABLE pipelineiq ALTER COLUMN confidence_level_normalized COMMENT 'Normalized confidence level (High, Medium, Low, Not computed)';\n",
    "ALTER TABLE pipelineiq ALTER COLUMN next_best_action_recommendation COMMENT 'AI-generated next best action recommendation for account team';\n",
    "ALTER TABLE pipelineiq ALTER COLUMN likely_to_slip COMMENT 'Flag if use case is likely to slip (true/false)';\n",
    "ALTER TABLE pipelineiq ALTER COLUMN slippage_category COMMENT 'AI-classified primary reason for slippage';\n",
    "ALTER TABLE pipelineiq ALTER COLUMN can_be_accelerated COMMENT 'Flag if use case can be accelerated (true/false)';\n",
    "ALTER TABLE pipelineiq ALTER COLUMN accel_category COMMENT 'AI-classified best acceleration lever';"
   ]
  },
  {
   "cell_type": "code",
   "execution_count": 0,
   "metadata": {
    "application/vnd.databricks.v1+cell": {
     "cellMetadata": {
      "byteLimit": 2048000,
      "implicitDf": true,
      "rowLimit": 10000
     },
     "inputWidgets": {},
     "nuid": "bdcf2620-e5e5-4ec3-ac5d-8d02aeaff045",
     "showTitle": false,
     "tableResultSettingsMap": {},
     "title": ""
    }
   },
   "outputs": [],
   "source": [
    "%sql\n",
    "ALTER TABLE pipelineiq SET TBLPROPERTIES (\n",
    "  'ai.model.version' = 'databricks-gpt-oss-20b',\n",
    "  'ai.generation.timestamp' = '2024-10-28',\n",
    "  'ai.prompt.version' = 'v1.3'\n",
    ");"
   ]
  },
  {
   "cell_type": "code",
   "execution_count": 0,
   "metadata": {
    "application/vnd.databricks.v1+cell": {
     "cellMetadata": {
      "byteLimit": 2048000,
      "implicitDf": true,
      "rowLimit": 10000
     },
     "inputWidgets": {},
     "nuid": "456d00e5-d03e-42f3-b5fa-8b9e43516d5d",
     "showTitle": true,
     "tableResultSettingsMap": {},
     "title": "Create replacement views for dashboard"
    }
   },
   "outputs": [],
   "source": [
    "%sql\n",
    "-- Create final view with all requested columns\n",
    "CREATE OR REPLACE VIEW pipelineiq_view AS\n",
    "SELECT \n",
    "  -- Original fields\n",
    "  snapshot_date,\n",
    "  field_manager,\n",
    "  account_name,\n",
    "  usecase_id,\n",
    "  usecase_name,\n",
    "  last_modified_date,\n",
    "  account_executive,\n",
    "  account_solution_architect,\n",
    "  stage,\n",
    "  target_cloud,\n",
    "  primary_competitor,\n",
    "  target_live_date,\n",
    "  target_onboarding_date,\n",
    "  estimated_monthly_dollar_dbus,\n",
    "  usecase_description,\n",
    "  demand_plan_stage_next_steps,\n",
    "  implementation_notes,\n",
    "  sales_region,\n",
    "  sales_subregion_level_1,\n",
    "  sales_subregion_level_2,\n",
    "  sales_subregion_level_3,\n",
    "  sales_subregion_level_4,\n",
    "  sales_manager,\n",
    "  sales_leader,\n",
    "  field_leader,\n",
    "  use_case_product,\n",
    "  blockers_last_modified_date,\n",
    "  sdr_bdr_notes,\n",
    "  business_impact,\n",
    "  business_outcome_description,\n",
    "  ae_authority,\n",
    "  ae_money_budget,\n",
    "  business_unit,\n",
    "  num_of_blockers,\n",
    "  last_modified_blocker_category,\n",
    "  last_modified_blocker_comment,\n",
    "  competition_string,\n",
    "  -- AI-generated fields\n",
    "  context,\n",
    "  one_liner,\n",
    "  next_steps_summary,\n",
    "  implementation_notes_summary,\n",
    "  blockers_summary,\n",
    "  usecase_type,\n",
    "  business_usecase_type,\n",
    "  ai_confidence_score_advanced,\n",
    "  confidence_score,\n",
    "  confidence_level,\n",
    "  rationale_for_confidence_score,\n",
    "  pain_score,\n",
    "  champion_score,\n",
    "  implementationplan_score,\n",
    "  decisionprocess_score,\n",
    "  urgency_score,\n",
    "  competitionawareness_score,\n",
    "  majorblockers_score,\n",
    "  measurableimpact_score,\n",
    "  confidence_level_normalized,\n",
    "  next_best_action_recommendation,\n",
    "  likely_to_slip,\n",
    "  slippage_category,\n",
    "  can_be_accelerated,\n",
    "  accel_category,\n",
    "  -- Set vertical to 'not specified' if null\n",
    "  COALESCE(vertical, 'Not specified') AS vertical\n",
    "FROM pipelineiq;\n",
    "\n",
    "-- Display the first 10 lines of the view\n",
    "SELECT * FROM pipelineiq_view LIMIT 10;"
   ]
  },
  {
   "cell_type": "code",
   "execution_count": 0,
   "metadata": {
    "application/vnd.databricks.v1+cell": {
     "cellMetadata": {
      "byteLimit": 2048000,
      "implicitDf": true,
      "rowLimit": 10000
     },
     "inputWidgets": {},
     "nuid": "21bd985f-1e4d-4240-8556-4b2cd64b15a0",
     "showTitle": false,
     "tableResultSettingsMap": {},
     "title": ""
    }
   },
   "outputs": [],
   "source": [
    "%sql\n",
    "COMMENT ON VIEW pipelineiq_view IS 'Business-facing view of PipelineIQ with cleaned recommendation labels, normalized verticals, and presentation-ready AI enrichment.';\n",
    "ALTER VIEW pipelineiq_view SET TBLPROPERTIES (\n",
    "  'ai.pipeline.version' = 'v1.3',\n",
    "  'ai.model' = 'databricks-gpt-oss-20b',\n",
    "  'ai.view.purpose' = 'Executive insights and reporting'\n",
    ");"
   ]
  }
 ],
 "metadata": {
  "application/vnd.databricks.v1+notebook": {
   "computePreferences": {
    "hardware": {
     "accelerator": null,
     "gpuPoolId": null,
     "memory": null
    }
   },
   "dashboards": [],
   "environmentMetadata": {
    "base_environment": "",
    "environment_version": "4"
   },
   "inputWidgetPreferences": null,
   "language": "python",
   "notebookMetadata": {
    "mostRecentlyExecutedCommandWithImplicitDF": {
     "commandId": 1070413122427673,
     "dataframes": [
      "_sqldf"
     ]
    },
    "pythonIndentUnit": 2
   },
   "notebookName": "Confidence Analysis",
   "widgets": {}
  },
  "language_info": {
   "name": "python"
  }
 },
 "nbformat": 4,
 "nbformat_minor": 0
}
